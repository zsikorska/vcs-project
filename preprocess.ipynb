{
 "cells": [
  {
   "cell_type": "code",
   "execution_count": 1,
   "metadata": {},
   "outputs": [],
   "source": [
    "import os\n",
    "import shutil\n",
    "import random\n",
    "from PIL import Image"
   ]
  },
  {
   "cell_type": "markdown",
   "metadata": {},
   "source": [
    "#### Resize originals ps-battles images to 224x224"
   ]
  },
  {
   "cell_type": "code",
   "execution_count": null,
   "metadata": {},
   "outputs": [
    {
     "name": "stdout",
     "output_type": "stream",
     "text": [
      "✅ Resizing complete! Images saved to: ps-battles-proc/originals\n"
     ]
    }
   ],
   "source": [
    "input_folder = \"ps-battles/originals\"\n",
    "output_folder = \"ps-battles-proc/originals\"\n",
    "\n",
    "os.makedirs(output_folder, exist_ok=True)\n",
    "\n",
    "target_size = (224, 224)\n",
    "\n",
    "for filename in os.listdir(input_folder):\n",
    "    if filename.lower().endswith(('.png', '.jpg', '.jpeg')):\n",
    "        img_path = os.path.join(input_folder, filename)\n",
    "        img = Image.open(img_path).convert(\"RGB\")\n",
    "\n",
    "        img_resized = img.resize(\n",
    "            target_size, Image.LANCZOS\n",
    "        )\n",
    "\n",
    "        save_path = os.path.join(output_folder, filename.split('.')[0] + \".jpg\")\n",
    "        img_resized.save(save_path, \"JPEG\", quality=85)\n",
    "\n",
    "print(\"✅ Resizing complete! Images saved to:\", output_folder)"
   ]
  },
  {
   "cell_type": "markdown",
   "metadata": {},
   "source": [
    "#### Resize photoshopped ps-battles images to 224x224"
   ]
  },
  {
   "cell_type": "code",
   "execution_count": null,
   "metadata": {},
   "outputs": [
    {
     "name": "stdout",
     "output_type": "stream",
     "text": [
      "Error opening image ps-battles/photoshops/3atzz7/csgb1c5_0.jpg\n"
     ]
    },
    {
     "name": "stderr",
     "output_type": "stream",
     "text": [
      "/home/joaompfonseca/.local/lib/python3.10/site-packages/PIL/Image.py:1045: UserWarning: Palette images with Transparency expressed in bytes should be converted to RGBA images\n",
      "  warnings.warn(\n"
     ]
    },
    {
     "name": "stdout",
     "output_type": "stream",
     "text": [
      "✅ Resizing complete! Images saved to: ps-battles-proc/photoshops\n"
     ]
    }
   ],
   "source": [
    "input_folder = \"ps-battles/photoshops\"\n",
    "output_folder = \"ps-battles-proc/photoshops\"\n",
    "\n",
    "os.makedirs(output_folder, exist_ok=True)\n",
    "\n",
    "target_size = (224, 224)\n",
    "\n",
    "for subfolder in os.listdir(input_folder):\n",
    "    \n",
    "    os.makedirs(os.path.join(output_folder, subfolder), exist_ok=True)\n",
    "        \n",
    "    for filename in os.listdir(os.path.join(input_folder, subfolder)):\n",
    "        \n",
    "        if os.path.exists(os.path.join(output_folder, subfolder, filename.split('.')[0] + \".jpg\")):\n",
    "            continue\n",
    "        \n",
    "        if filename.lower().endswith(('.png', '.jpg', '.jpeg')):\n",
    "            img_path = os.path.join(input_folder, subfolder, filename)\n",
    "            \n",
    "            try:\n",
    "                img = Image.open(img_path).convert(\"RGB\")\n",
    "            except:\n",
    "                print(\"Error opening image\", img_path)\n",
    "                continue\n",
    "\n",
    "            img_resized = img.resize(\n",
    "                target_size, Image.LANCZOS\n",
    "            )\n",
    "\n",
    "            save_path = os.path.join(output_folder, subfolder, filename.split('.')[0] + \".jpg\")\n",
    "            img_resized.save(save_path, \"JPEG\", quality=85)\n",
    "\n",
    "print(\"✅ Resizing complete! Images saved to:\", output_folder)"
   ]
  },
  {
   "cell_type": "markdown",
   "metadata": {},
   "source": [
    "#### Change the structure of ps-battles folders"
   ]
  },
  {
   "cell_type": "code",
   "execution_count": 23,
   "metadata": {},
   "outputs": [],
   "source": [
    "def split_and_move(files, train_dest, test_dest, split_ratio=0.8):\n",
    "    random.shuffle(files)\n",
    "    split_idx = int(len(files) * split_ratio)\n",
    "\n",
    "    for i, file in enumerate(files):\n",
    "        src_path = file\n",
    "        dest_path = os.path.join(train_dest if i < split_idx else test_dest, os.path.basename(file))\n",
    "        shutil.move(src_path, dest_path)"
   ]
  },
  {
   "cell_type": "code",
   "execution_count": 24,
   "metadata": {},
   "outputs": [
    {
     "name": "stdout",
     "output_type": "stream",
     "text": [
      "✅ Dataset reorganized successfully!\n"
     ]
    }
   ],
   "source": [
    "base_dir = \"ps-battles-proc\"\n",
    "originals_dir = os.path.join(base_dir, \"originals\")\n",
    "photoshops_dir = os.path.join(base_dir, \"photoshops\")\n",
    "\n",
    "train_real = os.path.join(base_dir, \"train\", \"real\")\n",
    "test_real = os.path.join(base_dir, \"test\", \"real\")\n",
    "train_photoshopped = os.path.join(base_dir, \"train\", \"fake\")\n",
    "test_photoshopped = os.path.join(base_dir, \"test\", \"fake\")\n",
    "\n",
    "for path in [train_real, test_real, train_photoshopped, test_photoshopped]:\n",
    "    os.makedirs(path, exist_ok=True)\n",
    "\n",
    "if os.path.exists(originals_dir):\n",
    "    original_files = [os.path.join(originals_dir, f) for f in os.listdir(originals_dir) if os.path.isfile(os.path.join(originals_dir, f))]\n",
    "    split_and_move(original_files, train_real, test_real)\n",
    "\n",
    "photoshopped_files = []\n",
    "if os.path.exists(photoshops_dir):\n",
    "    for folder in os.listdir(photoshops_dir):\n",
    "        folder_path = os.path.join(photoshops_dir, folder)\n",
    "        if os.path.isdir(folder_path):\n",
    "            for file in os.listdir(folder_path):\n",
    "                file_path = os.path.join(folder_path, file)\n",
    "                if os.path.isfile(file_path):\n",
    "                    photoshopped_files.append(file_path)\n",
    "\n",
    "if photoshopped_files:\n",
    "    split_and_move(photoshopped_files, train_photoshopped, test_photoshopped)\n",
    "\n",
    "if os.path.exists(originals_dir):\n",
    "    shutil.rmtree(originals_dir)\n",
    "\n",
    "if os.path.exists(photoshops_dir):\n",
    "    shutil.rmtree(photoshops_dir)\n",
    "\n",
    "print(\"✅ Dataset reorganized successfully!\")"
   ]
  },
  {
   "cell_type": "markdown",
   "metadata": {},
   "source": [
    "#### Create a new folder for validation set on ps-battles and cifake"
   ]
  },
  {
   "cell_type": "code",
   "execution_count": 25,
   "metadata": {},
   "outputs": [],
   "source": [
    "def make_validation_set(base_dir, validation_dir, split_ratio=0.2):\n",
    "    os.makedirs(validation_dir, exist_ok=True)\n",
    "    for folder in os.listdir(base_dir):\n",
    "        folder_path = os.path.join(base_dir, folder)\n",
    "        if os.path.isdir(folder_path):\n",
    "            files = [f for f in os.listdir(folder_path) if os.path.isfile(os.path.join(folder_path, f))]\n",
    "            random.shuffle(files)\n",
    "            split_idx = int(len(files) * split_ratio)\n",
    "            for file in files[:split_idx]:\n",
    "                src_path = os.path.join(folder_path, file)\n",
    "                dest_path = os.path.join(validation_dir, folder, file)\n",
    "                os.makedirs(os.path.dirname(dest_path), exist_ok=True)\n",
    "                shutil.move(src_path, dest_path)"
   ]
  },
  {
   "cell_type": "code",
   "execution_count": 26,
   "metadata": {},
   "outputs": [
    {
     "name": "stdout",
     "output_type": "stream",
     "text": [
      "✅ Validation set created successfully!\n"
     ]
    }
   ],
   "source": [
    "base_dir = \"ps-battles-proc\"\n",
    "train_dir = os.path.join(base_dir, \"train\")\n",
    "validation_dir = os.path.join(base_dir, \"val\")\n",
    "\n",
    "make_validation_set(train_dir, validation_dir)\n",
    "\n",
    "print(\"✅ Validation set created successfully!\")"
   ]
  },
  {
   "cell_type": "code",
   "execution_count": 27,
   "metadata": {},
   "outputs": [
    {
     "name": "stdout",
     "output_type": "stream",
     "text": [
      "✅ Validation set created successfully!\n"
     ]
    }
   ],
   "source": [
    "base_dir = \"cifake\"\n",
    "train_dir = os.path.join(base_dir, \"train\")\n",
    "validation_dir = os.path.join(base_dir, \"val\")\n",
    "\n",
    "make_validation_set(train_dir, validation_dir)\n",
    "\n",
    "print(\"✅ Validation set created successfully!\")"
   ]
  },
  {
   "cell_type": "markdown",
   "metadata": {},
   "source": [
    "#### Subsample datasets"
   ]
  },
  {
   "cell_type": "code",
   "execution_count": 4,
   "metadata": {},
   "outputs": [],
   "source": [
    "def subsample_dataset(base_dir, output_dir, percentage=0.2):\n",
    "    os.makedirs(output_dir, exist_ok=True)\n",
    "    for folder in os.listdir(base_dir):\n",
    "        folder_path = os.path.join(base_dir, folder)\n",
    "        for class_folder in os.listdir(folder_path):\n",
    "            class_path = os.path.join(folder_path, class_folder)\n",
    "            files = [f for f in os.listdir(class_path) if os.path.isfile(os.path.join(class_path, f))]\n",
    "            random.shuffle(files)\n",
    "            split_idx = int(len(files) * percentage)\n",
    "            for file in files[:split_idx]:\n",
    "                src_path = os.path.join(class_path, file)\n",
    "                dest_path = os.path.join(output_dir, folder, class_folder, file)\n",
    "                os.makedirs(os.path.dirname(dest_path), exist_ok=True)\n",
    "                shutil.copy(src_path, dest_path)"
   ]
  },
  {
   "cell_type": "code",
   "execution_count": 6,
   "metadata": {},
   "outputs": [
    {
     "name": "stdout",
     "output_type": "stream",
     "text": [
      "✅ Dataset subsampled successfully!\n"
     ]
    }
   ],
   "source": [
    "base_dir = \"ps-battles-proc\"\n",
    "output_dir = \"ps-battles-proc-sub\"\n",
    "\n",
    "subsample_dataset(base_dir, output_dir)\n",
    "\n",
    "print(\"✅ Dataset subsampled successfully!\")"
   ]
  },
  {
   "cell_type": "code",
   "execution_count": 7,
   "metadata": {},
   "outputs": [
    {
     "name": "stdout",
     "output_type": "stream",
     "text": [
      "✅ Dataset subsampled successfully!\n"
     ]
    }
   ],
   "source": [
    "base_dir = \"cifake\"\n",
    "output_dir = \"cifake-sub\"\n",
    "\n",
    "subsample_dataset(base_dir, output_dir)\n",
    "\n",
    "print(\"✅ Dataset subsampled successfully!\")"
   ]
  }
 ],
 "metadata": {
  "kernelspec": {
   "display_name": "base",
   "language": "python",
   "name": "python3"
  },
  "language_info": {
   "codemirror_mode": {
    "name": "ipython",
    "version": 3
   },
   "file_extension": ".py",
   "mimetype": "text/x-python",
   "name": "python",
   "nbconvert_exporter": "python",
   "pygments_lexer": "ipython3",
   "version": "3.12.4"
  }
 },
 "nbformat": 4,
 "nbformat_minor": 2
}
