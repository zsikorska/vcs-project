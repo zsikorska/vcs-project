{
 "cells": [
  {
   "cell_type": "markdown",
   "metadata": {},
   "source": [
    "#### Resize originals ps-battles images to 224x224"
   ]
  },
  {
   "cell_type": "code",
   "execution_count": null,
   "metadata": {},
   "outputs": [
    {
     "name": "stdout",
     "output_type": "stream",
     "text": [
      "✅ Resizing complete! Images saved to: ps-battles-proc/originals\n"
     ]
    }
   ],
   "source": [
    "import os\n",
    "from PIL import Image\n",
    "\n",
    "input_folder = \"ps-battles/originals\"\n",
    "output_folder = \"ps-battles-proc/originals\"\n",
    "\n",
    "os.makedirs(output_folder, exist_ok=True)\n",
    "\n",
    "target_size = (224, 224)\n",
    "\n",
    "for filename in os.listdir(input_folder):\n",
    "    if filename.lower().endswith(('.png', '.jpg', '.jpeg')):\n",
    "        img_path = os.path.join(input_folder, filename)\n",
    "        img = Image.open(img_path).convert(\"RGB\")\n",
    "\n",
    "        img_resized = img.resize(\n",
    "            target_size, Image.LANCZOS\n",
    "        )\n",
    "\n",
    "        save_path = os.path.join(output_folder, filename.split('.')[0] + \".jpg\")\n",
    "        img_resized.save(save_path, \"JPEG\", quality=85)\n",
    "\n",
    "print(\"✅ Resizing complete! Images saved to:\", output_folder)"
   ]
  },
  {
   "cell_type": "markdown",
   "metadata": {},
   "source": [
    "#### Resize photoshops ps-battles images to 224x224"
   ]
  },
  {
   "cell_type": "code",
   "execution_count": null,
   "metadata": {},
   "outputs": [
    {
     "name": "stdout",
     "output_type": "stream",
     "text": [
      "Error opening image ps-battles/photoshops/3atzz7/csgb1c5_0.jpg\n"
     ]
    },
    {
     "name": "stderr",
     "output_type": "stream",
     "text": [
      "/home/joaompfonseca/.local/lib/python3.10/site-packages/PIL/Image.py:1045: UserWarning: Palette images with Transparency expressed in bytes should be converted to RGBA images\n",
      "  warnings.warn(\n"
     ]
    },
    {
     "name": "stdout",
     "output_type": "stream",
     "text": [
      "✅ Resizing complete! Images saved to: ps-battles-proc/photoshops\n"
     ]
    }
   ],
   "source": [
    "import os\n",
    "from PIL import Image\n",
    "\n",
    "input_folder = \"ps-battles/photoshops\"\n",
    "output_folder = \"ps-battles-proc/photoshops\"\n",
    "\n",
    "os.makedirs(output_folder, exist_ok=True)\n",
    "\n",
    "target_size = (224, 224)\n",
    "\n",
    "for subfolder in os.listdir(input_folder):\n",
    "    \n",
    "    os.makedirs(os.path.join(output_folder, subfolder), exist_ok=True)\n",
    "        \n",
    "    for filename in os.listdir(os.path.join(input_folder, subfolder)):\n",
    "        \n",
    "        if os.path.exists(os.path.join(output_folder, subfolder, filename.split('.')[0] + \".jpg\")):\n",
    "            continue\n",
    "        \n",
    "        if filename.lower().endswith(('.png', '.jpg', '.jpeg')):\n",
    "            img_path = os.path.join(input_folder, subfolder, filename)\n",
    "            \n",
    "            try:\n",
    "                img = Image.open(img_path).convert(\"RGB\")\n",
    "            except:\n",
    "                print(\"Error opening image\", img_path)\n",
    "                continue\n",
    "\n",
    "            img_resized = img.resize(\n",
    "                target_size, Image.LANCZOS\n",
    "            )\n",
    "\n",
    "            save_path = os.path.join(output_folder, subfolder, filename.split('.')[0] + \".jpg\")\n",
    "            img_resized.save(save_path, \"JPEG\", quality=85)\n",
    "\n",
    "print(\"✅ Resizing complete! Images saved to:\", output_folder)"
   ]
  }
 ],
 "metadata": {
  "kernelspec": {
   "display_name": "base",
   "language": "python",
   "name": "python3"
  },
  "language_info": {
   "codemirror_mode": {
    "name": "ipython",
    "version": 3
   },
   "file_extension": ".py",
   "mimetype": "text/x-python",
   "name": "python",
   "nbconvert_exporter": "python",
   "pygments_lexer": "ipython3",
   "version": "3.12.4"
  }
 },
 "nbformat": 4,
 "nbformat_minor": 2
}
